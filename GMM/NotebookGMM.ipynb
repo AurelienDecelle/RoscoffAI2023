{
 "cells": [
  {
   "cell_type": "markdown",
   "metadata": {},
   "source": [
    "## In this notebook, we study the a mixture Gaussian model\n",
    "  1. In a first part, we look at what happen when we use an annealing procedure to adjust the variance\n",
    "  2. In the second part, we now use the version where the variance is dynamically adjusted and look at the likelihood to have an hint about the best model"
   ]
  },
  {
   "cell_type": "code",
   "execution_count": 1,
   "metadata": {},
   "outputs": [],
   "source": [
    "import numpy as np\n",
    "import matplotlib.pyplot as plt"
   ]
  },
  {
   "cell_type": "markdown",
   "metadata": {},
   "source": [
    "The next cells generate many clusters in two-dimensions in a random way"
   ]
  },
  {
   "cell_type": "code",
   "execution_count": 5,
   "metadata": {},
   "outputs": [],
   "source": [
    "# Generate clusters\n",
    "np.random.seed(4)\n",
    "D = 2 # dim of the data\n",
    "M = 200 # number of data\n",
    "L = 10 # taille du cube\n",
    "Nc = 5 # nb de clusters\n",
    "σClus = 0.8\n",
    "\n",
    "centers = np.array([])\n",
    "for c in range(Nc):\n",
    "    m = np.random.uniform(2*L,size=(D))-L\n",
    "    centers = np.append(centers,[m])\n",
    "    \n",
    "centers = centers.reshape(Nc,D)\n",
    "ch = [c for c in range(Nc)]\n",
    "data_lab = np.random.choice(ch,size=(M))\n",
    "data = np.zeros((D,M))\n",
    "for i in range(Nc):\n",
    "    idx = np.where(data_lab==i)\n",
    "    data[:,idx[0]] = centers[i].reshape(D,1) + σClus*np.random.normal(size=(D,len(idx[0])))\n",
    "\n"
   ]
  },
  {
   "cell_type": "code",
   "execution_count": 6,
   "metadata": {},
   "outputs": [],
   "source": [
    "data = data - np.mean(data,1).reshape(2,1)\n",
    "centers = centers - np.mean(centers,0).reshape(1,2)"
   ]
  },
  {
   "cell_type": "code",
   "execution_count": 7,
   "metadata": {},
   "outputs": [
    {
     "data": {
      "text/plain": [
       "<matplotlib.collections.PathCollection at 0x7fb1f2d76220>"
      ]
     },
     "execution_count": 7,
     "metadata": {},
     "output_type": "execute_result"
    },
    {
     "data": {
      "image/png": "[encoded data removed]",
      "text/plain": [
       "<Figure size 432x288 with 1 Axes>"
      ]
     },
     "metadata": {
      "needs_background": "light"
     },
     "output_type": "display_data"
    }
   ],
   "source": [
    "plt.scatter(data[0,:],data[1,:])\n",
    "plt.scatter(centers[:,0],centers[:,1])"
   ]
  },
  {
   "cell_type": "markdown",
   "metadata": {},
   "source": [
    "We now define the various function that we will use to \n",
    "  1. Adjust the means at each iteration\n",
    "  2. Compute the responsability -> the probability that a datapoint is assigned to a given cluster\n",
    "  3. The log-likelihood annd other interesting quantities"
   ]
  },
  {
   "cell_type": "code",
   "execution_count": 8,
   "metadata": {},
   "outputs": [],
   "source": [
    "def initMeans(K,L,D):\n",
    "    μ  = np.array([])\n",
    "    for c in range(K):\n",
    "        m = np.random.uniform(2*L,size=(D))-L\n",
    "        μ = np.append(μ,[m])\n",
    "    μ = μ.reshape(D,K)\n",
    "    return μ"
   ]
  },
  {
   "cell_type": "code",
   "execution_count": 9,
   "metadata": {},
   "outputs": [],
   "source": [
    "def ComputeResp(β,μ,X):\n",
    "    # print(X.shape)\n",
    "    Resp = np.zeros((X.shape[1],μ.shape[1]))\n",
    "    for i in range(X.shape[1]):\n",
    "        for c in range(μ.shape[1]):\n",
    "            Resp[i,c] = np.exp(-β*np.linalg.norm(X[:,i] - μ[:,c])**2)\n",
    "        Resp[i,:] = Resp[i,:] / np.sum(Resp[i,:])\n",
    "    return Resp    \n",
    "    \n",
    "μ = initMeans(3,L,2)\n",
    "P = ComputeResp(1,μ,data)"
   ]
  },
  {
   "cell_type": "code",
   "execution_count": 10,
   "metadata": {},
   "outputs": [],
   "source": [
    "def MoveMean(X,μ,P):\n",
    "    Λ = 1/np.sum(P,0)\n",
    "    return np.matmul(np.matmul(X,P),np.diag(Λ))"
   ]
  },
  {
   "cell_type": "code",
   "execution_count": 11,
   "metadata": {},
   "outputs": [],
   "source": [
    "def ComputeLike(β,X,μ):\n",
    "    F = 0\n",
    "    for i in range(X.shape[1]):\n",
    "        tmp = 0\n",
    "        for c in range(μ.shape[1]):\n",
    "            tmp += np.exp(-β*np.linalg.norm(X[:,i] - μ[:,c])**2)\n",
    "        F += np.log(tmp)\n",
    "    return F/X.shape[1]\n",
    "\n",
    "def ComputeEner(X,P,μ,K):\n",
    "    E = np.zeros((K,X.shape[1]))\n",
    "    for i in range(X.shape[1]):\n",
    "        for c in range(K):\n",
    "            E[c,i] = np.linalg.norm(X[:,i] - μ[:,c])**2\n",
    "    return np.sum(np.diag(np.matmul(P,E)))/X.shape[1]"
   ]
  },
  {
   "cell_type": "code",
   "execution_count": 12,
   "metadata": {},
   "outputs": [],
   "source": [
    "def ComputeProba(β,X,μ):\n",
    "    EffK = μ.shape[1]\n",
    "    pr_k = 1.0/EffK\n",
    "    pref = pr_k/(2*np.pi)*β*0.5\n",
    "    tmp = np.zeros(X.shape[1])\n",
    "    for c in range(EffK):\n",
    "        for i in range(X.shape[1]):\n",
    "            tmp[i] += np.exp(-β*np.linalg.norm(X[:,i] - μ[:,c])**2)\n",
    "    tmp = tmp*pref\n",
    "    return tmp"
   ]
  },
  {
   "cell_type": "markdown",
   "metadata": {},
   "source": [
    "We recall that the first threhold is given by the higest eigenvalue of the dataset"
   ]
  },
  {
   "cell_type": "code",
   "execution_count": 14,
   "metadata": {},
   "outputs": [
    {
     "name": "stdout",
     "output_type": "stream",
     "text": [
      "Threshold for $\\beta$= 0.017108190697307166\n"
     ]
    }
   ],
   "source": [
    "autov = 1/(2*np.linalg.eigvals(np.cov(data)))\n",
    "print(r\"Threshold for $\\beta$=\",np.min(autov))"
   ]
  },
  {
   "cell_type": "markdown",
   "metadata": {},
   "source": [
    "Now we can define the following cell, starting from high variance (low-beta) and gradually decrease it."
   ]
  },
  {
   "cell_type": "code",
   "execution_count": 18,
   "metadata": {},
   "outputs": [
    {
     "name": "stderr",
     "output_type": "stream",
     "text": [
      "<ipython-input-18-931a7afe32aa>:21: UserWarning: *c* argument looks like a single numeric RGB or RGBA sequence, which should be avoided as value-mapping will have precedence in case its length matches with *x* & *y*.  Please use the *color* keyword-argument or provide a 2D array with a single row if you intend to specify the same RGB or RGBA value for all points.\n",
      "  ax[0].scatter(μ[0,:],μ[1,:],s=100, c=colors_t[i])\n"
     ]
    },
    {
     "data": {
      "text/plain": [
       "[<matplotlib.lines.Line2D at 0x7fb1f24f86a0>]"
      ]
     },
     "execution_count": 18,
     "metadata": {},
     "output_type": "execute_result"
    },
    {
     "data": {
      "image/png": "[encoded data removed]",
      "text/plain": [
       "<Figure size 1440x360 with 2 Axes>"
      ]
     },
     "metadata": {
      "needs_background": "light"
     },
     "output_type": "display_data"
    }
   ],
   "source": [
    "K=15 # number of clusters \n",
    "βI = np.min(autov)/2\n",
    "μ = initMeans(K,L,D) # position of the mean\n",
    "f,ax = plt.subplots(1,2,figsize=(20,5))\n",
    "ax[0].scatter(data[0,:],data[1,:],color='black')\n",
    "\n",
    "Ener = np.array([])\n",
    "FEner = np.array([])\n",
    "Allβ = np.array([])\n",
    "Lβ = np.arange(βI/4,σClus/3,0.0025)\n",
    "Ncol = Lβ.shape[0]\n",
    "# for β in np.arange(0.005,0.2,0.005):\n",
    "colors_t=plt.cm.RdYlBu(np.linspace(0,1,Ncol))\n",
    "for i,β in enumerate(Lβ):\n",
    "    μ = μ + 0.1*np.random.normal(size=(μ.shape))\n",
    "    for it in range(20):\n",
    "        # pp.scatter(μ[0,:],μ[1,:],s=100)\n",
    "        P = ComputeResp(β,μ,data)\n",
    "        μ = MoveMean(data,μ,P)\n",
    "\n",
    "    ax[0].scatter(μ[0,:],μ[1,:],s=100, c=colors_t[i])\n",
    "    Ener = np.append(Ener,ComputeEner(data,P,μ,K))\n",
    "    FEner = np.append(FEner,ComputeLike(β,data,μ)/β)\n",
    "    Allβ = np.append(Allβ,β)\n",
    "    \n",
    "    \n",
    "    \n",
    "    \n",
    "ax[1].loglog(Allβ,Ener)\n",
    "ax[1].plot([np.min(autov),np.min(autov)],[0,Ener[0]])"
   ]
  },
  {
   "cell_type": "code",
   "execution_count": 19,
   "metadata": {},
   "outputs": [],
   "source": [
    "# Post-Analysis\n",
    "idx = np.where(data[0,:]<5.0)\n",
    "autov_ = 1/(2*np.linalg.eigvals(np.cov(data[:,idx[0]] - np.mean(data[:,idx[0]],1).reshape(2,1))))\n",
    "idx1 = np.where(data[1,idx[0]]>0)\n",
    "autov_1 = 1/(2*np.linalg.eigvals(np.cov(data[:,idx[0]][:,idx1[0]] - np.mean(data[:,idx[0]][:,idx1[0]],1).reshape(2,1))))\n",
    "idx2 = np.where(data[1,idx[0]]<0)\n",
    "autov_2 = 1/(2*np.linalg.eigvals(np.cov(data[:,idx[0]][:,idx2[0]] - np.mean(data[:,idx[0]][:,idx2[0]],1).reshape(2,1))))"
   ]
  },
  {
   "cell_type": "code",
   "execution_count": 20,
   "metadata": {},
   "outputs": [
    {
     "data": {
      "text/plain": [
       "[<matplotlib.lines.Line2D at 0x7fb1f270e280>]"
      ]
     },
     "execution_count": 20,
     "metadata": {},
     "output_type": "execute_result"
    },
    {
     "data": {
      "image/png": "[encoded data removed]",
      "text/plain": [
       "<Figure size 432x288 with 1 Axes>"
      ]
     },
     "metadata": {
      "needs_background": "light"
     },
     "output_type": "display_data"
    }
   ],
   "source": [
    "plt.loglog(Allβ,Ener)\n",
    "plt.plot([np.min(autov),np.min(autov)],[0,Ener[0]],color='black')\n",
    "plt.plot([np.min(autov_),np.min(autov_)],[0,Ener[0]],color='black')\n",
    "plt.plot([np.min(autov_1),np.min(autov_1)],[0,Ener[0]],color='black')\n",
    "plt.plot([np.min(autov_2),np.min(autov_2)],[0,Ener[0]],color='black')"
   ]
  },
  {
   "cell_type": "markdown",
   "metadata": {},
   "source": [
    "We check the position of the centers w.r.t. the true ones"
   ]
  },
  {
   "cell_type": "code",
   "execution_count": 21,
   "metadata": {},
   "outputs": [
    {
     "data": {
      "text/plain": [
       "<matplotlib.collections.PathCollection at 0x7fb1f2805250>"
      ]
     },
     "execution_count": 21,
     "metadata": {},
     "output_type": "execute_result"
    },
    {
     "data": {
      "image/png": "[encoded data removed]",
      "text/plain": [
       "<Figure size 432x288 with 1 Axes>"
      ]
     },
     "metadata": {
      "needs_background": "light"
     },
     "output_type": "display_data"
    }
   ],
   "source": [
    "plt.scatter(μ[0,:],μ[1,:],s=100, c='red')\n",
    "plt.scatter(centers[:,0],centers[:,1],s=100, c='green')"
   ]
  },
  {
   "cell_type": "markdown",
   "metadata": {},
   "source": [
    "## TODO:\n",
    "  1. to program a function fo adjusting dynamically the variance\n",
    "  2. the functions ComputeRest and ComputeLike to include the variance in the function"
   ]
  },
  {
   "cell_type": "code",
   "execution_count": 386,
   "metadata": {},
   "outputs": [],
   "source": [
    "def ComputeRespSig(σ,μ,X):\n",
    "    # TODO\n",
    "    return Resp    \n"
   ]
  },
  {
   "cell_type": "code",
   "execution_count": 387,
   "metadata": {},
   "outputs": [],
   "source": [
    "def ComputeLikeSig(σ,X,μ):\n",
    "    F = 0\n",
    "    # TODO\n",
    "    return F/X.shape[1]\n"
   ]
  },
  {
   "cell_type": "code",
   "execution_count": 388,
   "metadata": {},
   "outputs": [],
   "source": [
    "def AdjustVar(X,μ,P,ϵ=0.01):\n",
    "    σ = np.zeros(μ.shape[1])\n",
    "    # TODO\n",
    "    return σ"
   ]
  },
  {
   "cell_type": "code",
   "execution_count": null,
   "metadata": {},
   "outputs": [],
   "source": []
  },
  {
   "cell_type": "markdown",
   "metadata": {},
   "source": [
    "## Using the likelihood to choose the best solution\n",
    "\n",
    "Given the strong fluctuation between two different initialization, we need to many many restarts to choose the best solution.\n",
    "## TODO:\n",
    "  1. run the algorithm for many different values of $K$ and choose the best model for each\n",
    "  2. plot the best likelihood as a function of $K$"
   ]
  },
  {
   "cell_type": "code",
   "execution_count": null,
   "metadata": {},
   "outputs": [],
   "source": [
    "# TODO ..."
   ]
  },
  {
   "cell_type": "code",
   "execution_count": null,
   "metadata": {},
   "outputs": [],
   "source": []
  }
 ],
 "metadata": {
  "kernelspec": {
   "display_name": "Python 3",
   "language": "python",
   "name": "python3"
  },
  "language_info": {
   "codemirror_mode": {
    "name": "ipython",
    "version": 3
   },
   "file_extension": ".py",
   "mimetype": "text/x-python",
   "name": "python",
   "nbconvert_exporter": "python",
   "pygments_lexer": "ipython3",
   "version": "3.8.5"
  }
 },
 "nbformat": 4,
 "nbformat_minor": 4
}
